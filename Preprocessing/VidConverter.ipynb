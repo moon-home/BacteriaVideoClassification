{
 "cells": [
  {
   "cell_type": "code",
   "execution_count": 55,
   "metadata": {
    "collapsed": false,
    "deletable": true,
    "editable": true
   },
   "outputs": [],
   "source": [
    "import os\n",
    "\n",
    "converter = os.system(\"ffmpeg -i video.avi -codec copy test.mp4\")\n",
    "print(converter)"
   ]
  },
  {
   "cell_type": "code",
   "execution_count": null,
   "metadata": {
    "collapsed": true,
    "deletable": true,
    "editable": true
   },
   "outputs": [],
   "source": []
  },
  {
   "cell_type": "code",
   "execution_count": null,
   "metadata": {
    "collapsed": true,
    "deletable": true,
    "editable": true
   },
   "outputs": [],
   "source": []
  },
  {
   "cell_type": "code",
   "execution_count": 50,
   "metadata": {
    "collapsed": true,
    "deletable": true,
    "editable": true
   },
   "outputs": [],
   "source": [
    "import os\n",
    "from os import listdir\n",
    "from os.path import isfile, join\n",
    "\n",
    "source_path = './VidBatch'\n",
    "out_path = './VidMP4'"
   ]
  },
  {
   "cell_type": "code",
   "execution_count": 52,
   "metadata": {
    "collapsed": false,
    "deletable": true,
    "editable": true
   },
   "outputs": [
    {
     "name": "stdout",
     "output_type": "stream",
     "text": [
      "ffmpeg -i ./DenseOpticalFlow.avi -strict -2 ./VidMP4\\DenseOpticalFlow.avi\n",
      "ffmpeg -i ./fun2sec.mp4 -strict -2 ./VidMP4\\fun2sec.mp4\n",
      "ffmpeg -i ./G.MOV -strict -2 ./VidMP4\\G.mp4\n",
      "ffmpeg -i ./spirostomum.flv -strict -2 ./VidMP4\\spirostomum.flv\n"
     ]
    }
   ],
   "source": [
    "onlyfiles = [f for f in listdir(source_path) if isfile(join(source_path, f))]\n",
    "\n",
    "for file_name in onlyfiles:\n",
    "    file_new = file_name.replace('.3gp', '.mp4').replace('.MOV', '.mp4').replace('.AVI', '.mp4')\n",
    "\n",
    "    # file_new = file_name.replace('.3gp', '.mp4')\n",
    "    source_file = join('./', file_name)\n",
    "    out_file = join(out_path, file_new)\n",
    "    comm = 'ffmpeg -i {0} -strict -2 {1}'.format(source_file, out_file)\n",
    "    print(comm)\n",
    "    os.system(comm)"
   ]
  },
  {
   "cell_type": "code",
   "execution_count": null,
   "metadata": {
    "collapsed": true,
    "deletable": true,
    "editable": true
   },
   "outputs": [],
   "source": []
  }
 ],
 "metadata": {
  "anaconda-cloud": {},
  "kernelspec": {
   "display_name": "Python [conda env:SPTopencv3]",
   "language": "python",
   "name": "conda-env-SPTopencv3-py"
  },
  "language_info": {
   "codemirror_mode": {
    "name": "ipython",
    "version": 3
   },
   "file_extension": ".py",
   "mimetype": "text/x-python",
   "name": "python",
   "nbconvert_exporter": "python",
   "pygments_lexer": "ipython3",
   "version": "3.5.3"
  }
 },
 "nbformat": 4,
 "nbformat_minor": 2
}
