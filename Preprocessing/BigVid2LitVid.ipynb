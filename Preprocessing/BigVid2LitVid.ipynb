{
 "cells": [
  {
   "cell_type": "code",
   "execution_count": 37,
   "metadata": {},
   "outputs": [],
   "source": [
    "import subprocess\n",
    "import os\n",
    "import sys\n",
    "from tqdm import tqdm_notebook as tqdm\n",
    "import shlex"
   ]
  },
  {
   "cell_type": "code",
   "execution_count": 44,
   "metadata": {},
   "outputs": [],
   "source": [
    "def Big2Lit(bigfolder_path, dur):\n",
    "    Bigs= os.listdir(bigfolder_path)\n",
    "    for Big in tqdm(Bigs): \n",
    "        big_path = os.path.join('./', big_folder, Big)\n",
    "        print(big_path)\n",
    "        if not os.path.isdir(Big): #only open when it's not a folder\n",
    "            cut_cmd = \"python cutter.py -f \"+big_path+\" -s \"+dur\n",
    "            print(cut_cmd)\n",
    "            subprocess.check_output(cut_cmd)"
   ]
  },
  {
   "cell_type": "code",
   "execution_count": 45,
   "metadata": {},
   "outputs": [
    {
     "data": {
      "application/vnd.jupyter.widget-view+json": {
       "model_id": "6c1ed3b14cfb47eb85563c1bad300d9c",
       "version_major": 2,
       "version_minor": 0
      },
      "text/plain": [
       "HBox(children=(IntProgress(value=0, max=2), HTML(value='')))"
      ]
     },
     "metadata": {},
     "output_type": "display_data"
    },
    {
     "name": "stdout",
     "output_type": "stream",
     "text": [
      "./Bigs\\Y6_1.avi\n",
      "python cutter.py -f ./Bigs\\Y6_1.avi -s 20\n",
      "./Bigs\\Y6_2.avi\n",
      "python cutter.py -f ./Bigs\\Y6_2.avi -s 20\n",
      "\n"
     ]
    }
   ],
   "source": [
    "big_folder = \"Bigs\"\n",
    "dur = '20' # cut the long videos into videos of 20s\n",
    "Big2Lit(big_folder, dur)"
   ]
  },
  {
   "cell_type": "code",
   "execution_count": null,
   "metadata": {},
   "outputs": [],
   "source": []
  }
 ],
 "metadata": {
  "kernelspec": {
   "display_name": "Python [default]",
   "language": "python",
   "name": "python3"
  },
  "language_info": {
   "codemirror_mode": {
    "name": "ipython",
    "version": 3
   },
   "file_extension": ".py",
   "mimetype": "text/x-python",
   "name": "python",
   "nbconvert_exporter": "python",
   "pygments_lexer": "ipython3",
   "version": "3.6.6"
  }
 },
 "nbformat": 4,
 "nbformat_minor": 2
}
