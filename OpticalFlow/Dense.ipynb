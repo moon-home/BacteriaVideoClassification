{
 "cells": [
  {
   "cell_type": "code",
   "execution_count": 34,
   "metadata": {
    "collapsed": false,
    "deletable": true,
    "editable": true
   },
   "outputs": [],
   "source": [
    "import cv2 as cv\n",
    "#cv.__version__\n",
    "import numpy as np\n",
    "#import matplotlib.pyplot as plt"
   ]
  },
  {
   "cell_type": "markdown",
   "metadata": {
    "deletable": true,
    "editable": true
   },
   "source": [
    "### Parameters for dense optical flow function include:\n",
    "\n",
    "(`cv.calcOpticalFlowFarneback()`)\n",
    "\n",
    " * **pyr_scale = 0.5**  \n",
    " Image scale (<1) to build pyramids for each image0.5 means a classical pyramid, where each next layer is twice smaller than the previous one.\n",
    "   \n",
    "   \n",
    " * **levels = 5**  \n",
    " Number of pyramid layers including the initial image; levels=1 means that no extra layers are created and only the original images are used.\n",
    " \n",
    " \n",
    " * **winsize = 10**  \n",
    " Larger values increase the algorithm robustness to image noise and give more chances for fast motion detection, but yield more blurred motion field\n",
    " \n",
    " \n",
    " * **iterations = 3**  \n",
    " Number of iterations the algorithm does at each pyramid level.\n",
    " \n",
    " \n",
    " * **poly_n = 5**  \n",
    " Size of the pixel neighborhood used to find polynomial expansion in each pixel; larger values mean that the image will be approximated with smoother surfaces, yielding more robust algorithm and more blurred motion field, typically poly_n =5 or 7.\n",
    " \n",
    " \n",
    " * **poly_sigma = 1.2**  \n",
    " Standard deviation of the Gaussian that is used to smooth derivatives used as a basis for the polynomial expansion; for poly_n=5, you can set poly_sigma=1.1, for poly_n=7, a good value would be poly_sigma=1.5.\n",
    " \n",
    " \n",
    " * **flags = 0**  \n",
    " Operation flags that can be a combination of the following:  \n",
    "     * OPTFLOW_USE_INITIAL_FLOW uses the input flow as an initial flow approximation.  \n",
    "hsv = np.zeros_like(frame1)\n",
    "hsv[...,1] = 255     * OPTFLOW_FARNEBACK_GAUSSIAN uses the Gaussian winsize×winsize filter instead of a box filter of the same size for optical flow estimation; usually, this option gives z more accurate flow than with a box filter, at the cost of lower speed; normally, winsize for a Gaussian window should be set to a larger value to achieve the same level of robustness."
   ]
  },
  {
   "cell_type": "code",
   "execution_count": 35,
   "metadata": {
    "collapsed": false,
    "deletable": true,
    "editable": true
   },
   "outputs": [
    {
     "name": "stderr",
     "output_type": "stream",
     "text": [
      "C:\\Users\\Yue Ma\\Anaconda\\envs\\SPTopencv3\\lib\\site-packages\\ipykernel\\__main__.py:9: FutureWarning: comparison to `None` will result in an elementwise object comparison in the future.\n"
     ]
    }
   ],
   "source": [
    "frame_array = []\n",
    "cap = cv.VideoCapture(\"G.MOV\")\n",
    "ret, frame2 = cap.read()\n",
    "hsv = np.zeros_like(frame2)\n",
    "hsv[...,1] = 255\n",
    "prev = cv.cvtColor(frame2,cv.COLOR_BGR2GRAY)\n",
    "while(1):\n",
    "    ret, frame2 = cap.read()\n",
    "    if frame2 == None:\n",
    "        break\n",
    "    \n",
    "    next = cv.cvtColor(frame2,cv.COLOR_BGR2GRAY)\n",
    "    flow = cv.calcOpticalFlowFarneback(prev,next, None, 0.5, 5, 15, 3, 5, 1.2, 0)\n",
    "    mag, ang = cv.cartToPolar(flow[...,0], flow[...,1])\n",
    "    hsv[...,0] = ang*180/np.pi/2\n",
    "    hsv[...,2] = cv.normalize(mag,None,0,255,cv.NORM_MINMAX)\n",
    "    bgr = cv.cvtColor(hsv,cv.COLOR_HSV2BGR)\n",
    "    \n",
    "    frame_array.append(bgr)\n",
    "\n",
    "    prev = next\n",
    "cap.release()\n",
    "\n",
    "height, width, channel = frame_array[0].shape\n",
    "out = cv.VideoWriter('DenseOpticalFlow.avi',cv.VideoWriter_fourcc(*'DIVX'), 30, (width,height))\n",
    "for i in range(len(frame_array)):\n",
    "    out.write(frame_array[i])\n",
    "out.release()"
   ]
  },
  {
   "cell_type": "markdown",
   "metadata": {
    "deletable": true,
    "editable": true
   },
   "source": [
    "frame2.shape = (512, 512, 3)\n",
    "\n",
    "next.shape = (512, 512)\n",
    "\n",
    "flow.shape = (512, 512, 2)\n",
    "\n",
    "mag.shape = (512, 512)\n",
    "\n",
    "ang.shape = (512, 512)"
   ]
  },
  {
   "cell_type": "code",
   "execution_count": null,
   "metadata": {
    "collapsed": true,
    "deletable": true,
    "editable": true
   },
   "outputs": [],
   "source": []
  }
 ],
 "metadata": {
  "anaconda-cloud": {},
  "kernelspec": {
   "display_name": "Python [conda env:SPTopencv3]",
   "language": "python",
   "name": "conda-env-SPTopencv3-py"
  },
  "language_info": {
   "codemirror_mode": {
    "name": "ipython",
    "version": 3
   },
   "file_extension": ".py",
   "mimetype": "text/x-python",
   "name": "python",
   "nbconvert_exporter": "python",
   "pygments_lexer": "ipython3",
   "version": "3.5.3"
  }
 },
 "nbformat": 4,
 "nbformat_minor": 2
}
