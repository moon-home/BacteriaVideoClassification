{
 "cells": [
  {
   "cell_type": "code",
   "execution_count": 52,
   "metadata": {},
   "outputs": [],
   "source": [
    "import re\n",
    "import csv"
   ]
  },
  {
   "cell_type": "code",
   "execution_count": 79,
   "metadata": {},
   "outputs": [],
   "source": [
    "cor_list = [0]*26\n",
    "for n in range(26):\n",
    "    cor_all = 0\n",
    "    file = open(\"PairCorrelation.txt\",\"r\") \n",
    "    for line in file:\n",
    "        re_1 = '(.+?)_'\n",
    "        fn1 = re.search(re_1, line) #fn is feature number\n",
    "        fn1 = fn1.group(0)[:-1]\n",
    "        re_2 = '_(.+?)\\t'\n",
    "        fn2 = re.search(re_2, line) #fn is feature number\n",
    "        fn2 = fn2.group(0)[1:-1]\n",
    "        cor = '\\t(.+)'\n",
    "        cor = re.search(cor, line)\n",
    "        cor = float(cor.group(0)[1:])\n",
    "        if 25==int(fn1) or 25==(fn2):\n",
    "            print(\"!!!!!!\")\n",
    "        if n==int(fn1) or n==int(fn2):\n",
    "            cor_all+=cor*cor\n",
    "    cor_list[n] = cor_all"
   ]
  },
  {
   "cell_type": "code",
   "execution_count": 80,
   "metadata": {},
   "outputs": [],
   "source": [
    "cor_list\n",
    "ahh = []\n",
    "for i in cor_list:\n",
    "    ahh.append([i])"
   ]
  },
  {
   "cell_type": "code",
   "execution_count": 81,
   "metadata": {},
   "outputs": [],
   "source": [
    "myFile = open('overall_correlation.csv', 'w')  \n",
    "with myFile:  \n",
    "   writer = csv.writer(myFile)\n",
    "   writer.writerows(ahh)"
   ]
  },
  {
   "cell_type": "code",
   "execution_count": 82,
   "metadata": {},
   "outputs": [
    {
     "data": {
      "text/plain": [
       "[[4.0189],\n",
       " [3.2989999999999995],\n",
       " [5.4331],\n",
       " [5.2633],\n",
       " [3.723],\n",
       " [0.5489999999999999],\n",
       " [3.3358999999999996],\n",
       " [1.2161],\n",
       " [4.4801],\n",
       " [4.575200000000001],\n",
       " [1.8173000000000001],\n",
       " [3.5702],\n",
       " [0.6441],\n",
       " [2.2079999999999997],\n",
       " [4.1736],\n",
       " [1.1447999999999998],\n",
       " [2.6226000000000003],\n",
       " [1.0398],\n",
       " [4.163600000000001],\n",
       " [4.3647],\n",
       " [0.5913000000000002],\n",
       " [3.641],\n",
       " [3.0162],\n",
       " [5.2556],\n",
       " [1.999],\n",
       " [3.1603999999999997]]"
      ]
     },
     "execution_count": 82,
     "metadata": {},
     "output_type": "execute_result"
    }
   ],
   "source": [
    "ahh"
   ]
  },
  {
   "cell_type": "code",
   "execution_count": null,
   "metadata": {},
   "outputs": [],
   "source": []
  }
 ],
 "metadata": {
  "kernelspec": {
   "display_name": "Python [default]",
   "language": "python",
   "name": "python3"
  },
  "language_info": {
   "codemirror_mode": {
    "name": "ipython",
    "version": 3
   },
   "file_extension": ".py",
   "mimetype": "text/x-python",
   "name": "python",
   "nbconvert_exporter": "python",
   "pygments_lexer": "ipython3",
   "version": "3.6.6"
  }
 },
 "nbformat": 4,
 "nbformat_minor": 2
}
