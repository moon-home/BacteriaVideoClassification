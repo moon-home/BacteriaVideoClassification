{
 "cells": [
  {
   "cell_type": "code",
   "execution_count": 196,
   "metadata": {},
   "outputs": [],
   "source": [
    "import os\n",
    "import numpy as np\n",
    "import math"
   ]
  },
  {
   "cell_type": "markdown",
   "metadata": {},
   "source": [
    "We have 3 sets of same data.\n",
    "1. the original trahectory coordinates sequences\n",
    "2. velocity, angles, angular velocity sequences\n",
    "3. event labels sequence for pause and reversal\n",
    "\n",
    "#### features for each event(pause, reversal, nonevent):\n",
    "1. Speed Mean &rarr; SMPause, SMNonpause\n",
    "2. Speed Variance &rarr; SVPasue, SVNonpause\n",
    "3. Angular Speed Mean &rarr; ASMReversal, ASMNonreversal\n",
    "4. Angular Speed Variance &rarr; ASVReversal, ASVNonreversal\n",
    "5. Event Duration Mean &rarr; DMPause, DMNonpause, DMReversal, DMNonreversal\n",
    "6. Event Duration Variance &rarr; DVPause, DVNonpause, DVReversal, DVNonreversal\n",
    "7. Correlation between Speed and Angular Speed\n",
    "\n",
    "#### features across events:\n",
    "8. Pause Frequency\n",
    "9. Reversal Frequency\n",
    "\n",
    "#### other features:\n",
    "10. Confinement Ratio &rarr; Sensitive to time lenght, not suitable for events since events are short\n",
    "\n",
    "Let's start from these 10 features, we will end up with 3x8+2 features, they will be flatten into 1d vector then feed into MLP.\n",
    "\n",
    "`Sep`: Seperate the velocity or angular velocity sequences into event(`Label=1`) or nonevent(`Label=0`) list(`PureSeq`). Each list will have different lenght of sequence. E.g. 60 steps of velocity(`DataSeq`) can be separated into `PureSeq` when `Label=1`: [[2, 3, 1], [2, 1], [5, 6]] for pause event, or `PureSeq` when `Label=0`:[[4, 5], [1, 2]] for non pause event. The two `PureSeq` merge together and reshape into 1d will be the original `DataSeq`."
   ]
  },
  {
   "cell_type": "code",
   "execution_count": 238,
   "metadata": {},
   "outputs": [],
   "source": [
    "def Sep(DataSeq, LabelSeq, Label):\n",
    "    labelseq = (LabelSeq == Label).astype(int)\n",
    "    PureSeq = []\n",
    "    tmp = []\n",
    "    for x in DataSeq*labelseq:\n",
    "        if x!=0: \n",
    "            tmp.append(x)\n",
    "        else:\n",
    "            PureSeq.append(tmp)\n",
    "            tmp = []\n",
    "    if tmp!=[]:\n",
    "        PureSeq.append(tmp)\n",
    "    PureSeq = [x for x in PureSeq if x != []]\n",
    "    return PureSeq\n",
    "\n",
    "def SpeedMeanANDVariance(PureSeq): \n",
    "    flat=[]\n",
    "    for sec in PureSeq:\n",
    "        flat = flat + sec\n",
    "    SM = np.mean(np.array(flat))\n",
    "    SV = np.var(np.array(flat))\n",
    "    return SM, SV\n",
    "\n",
    "def DurMeanANDVariance(PureSeq): \n",
    "    dur=[]\n",
    "    for sec in PureSeq:\n",
    "        dur.append(len(sec))\n",
    "    DM = sum(dur)/len(dur)\n",
    "    DV = np.var(np.array(dur))\n",
    "    return DM, DV\n",
    "\n",
    "def ConfinementRatio(CoorSeq):\n",
    "    d_total = 0\n",
    "    for i in range(1, len(CoorSeq)):\n",
    "        d_total += math.sqrt(math.pow((CoorSeq[i][0]-CoorSeq[i-1][0]), 2)+math.pow((CoorSeq[i][1]-CoorSeq[i-1][1]), 2))\n",
    "    d_net = math.sqrt(math.pow((CoorSeq[-1][0]-CoorSeq[0][0]), 2)+math.pow((CoorSeq[-1][1]-CoorSeq[0][1]), 2))\n",
    "    return d_net/d_total"
   ]
  },
  {
   "cell_type": "code",
   "execution_count": 247,
   "metadata": {},
   "outputs": [
    {
     "name": "stdout",
     "output_type": "stream",
     "text": [
      "26features\\Class1_S7_1263_326features.npy is saved\n"
     ]
    },
    {
     "ename": "FileNotFoundError",
     "evalue": "[Errno 2] No such file or directory: '26features\\\\Class1_S7_1263_326features.npy'",
     "output_type": "error",
     "traceback": [
      "\u001b[1;31m---------------------------------------------------------------------------\u001b[0m",
      "\u001b[1;31mFileNotFoundError\u001b[0m                         Traceback (most recent call last)",
      "\u001b[1;32m<ipython-input-247-22c8118825c1>\u001b[0m in \u001b[0;36m<module>\u001b[1;34m()\u001b[0m\n\u001b[0;32m     63\u001b[0m     \u001b[0mclass2EventSeq_path\u001b[0m \u001b[1;33m=\u001b[0m \u001b[0mos\u001b[0m\u001b[1;33m.\u001b[0m\u001b[0mpath\u001b[0m\u001b[1;33m.\u001b[0m\u001b[0mjoin\u001b[0m\u001b[1;33m(\u001b[0m\u001b[1;34m\"26features\"\u001b[0m\u001b[1;33m,\u001b[0m\u001b[0mvaa_list\u001b[0m\u001b[1;33m[\u001b[0m\u001b[0mi\u001b[0m\u001b[1;33m]\u001b[0m\u001b[1;33m[\u001b[0m\u001b[1;33m:\u001b[0m\u001b[1;33m-\u001b[0m\u001b[1;36m7\u001b[0m\u001b[1;33m]\u001b[0m\u001b[1;33m+\u001b[0m\u001b[1;34m\"26features.npy\"\u001b[0m\u001b[1;33m)\u001b[0m\u001b[1;33m\u001b[0m\u001b[0m\n\u001b[0;32m     64\u001b[0m     \u001b[0mprint\u001b[0m\u001b[1;33m(\u001b[0m\u001b[0mclass2EventSeq_path\u001b[0m\u001b[1;33m,\u001b[0m \u001b[1;34m\"is saved\"\u001b[0m\u001b[1;33m)\u001b[0m\u001b[1;33m\u001b[0m\u001b[0m\n\u001b[1;32m---> 65\u001b[1;33m     \u001b[0mnp\u001b[0m\u001b[1;33m.\u001b[0m\u001b[0msave\u001b[0m\u001b[1;33m(\u001b[0m\u001b[0mclass2EventSeq_path\u001b[0m\u001b[1;33m,\u001b[0m \u001b[0mff_class\u001b[0m\u001b[1;33m)\u001b[0m\u001b[1;33m\u001b[0m\u001b[0m\n\u001b[0m",
      "\u001b[1;32m~\\Anaconda\\lib\\site-packages\\numpy\\lib\\npyio.py\u001b[0m in \u001b[0;36msave\u001b[1;34m(file, arr, allow_pickle, fix_imports)\u001b[0m\n\u001b[0;32m    488\u001b[0m         \u001b[1;32mif\u001b[0m \u001b[1;32mnot\u001b[0m \u001b[0mfile\u001b[0m\u001b[1;33m.\u001b[0m\u001b[0mendswith\u001b[0m\u001b[1;33m(\u001b[0m\u001b[1;34m'.npy'\u001b[0m\u001b[1;33m)\u001b[0m\u001b[1;33m:\u001b[0m\u001b[1;33m\u001b[0m\u001b[0m\n\u001b[0;32m    489\u001b[0m             \u001b[0mfile\u001b[0m \u001b[1;33m=\u001b[0m \u001b[0mfile\u001b[0m \u001b[1;33m+\u001b[0m \u001b[1;34m'.npy'\u001b[0m\u001b[1;33m\u001b[0m\u001b[0m\n\u001b[1;32m--> 490\u001b[1;33m         \u001b[0mfid\u001b[0m \u001b[1;33m=\u001b[0m \u001b[0mopen\u001b[0m\u001b[1;33m(\u001b[0m\u001b[0mfile\u001b[0m\u001b[1;33m,\u001b[0m \u001b[1;34m\"wb\"\u001b[0m\u001b[1;33m)\u001b[0m\u001b[1;33m\u001b[0m\u001b[0m\n\u001b[0m\u001b[0;32m    491\u001b[0m         \u001b[0mown_fid\u001b[0m \u001b[1;33m=\u001b[0m \u001b[1;32mTrue\u001b[0m\u001b[1;33m\u001b[0m\u001b[0m\n\u001b[0;32m    492\u001b[0m     \u001b[1;32melif\u001b[0m \u001b[0mis_pathlib_path\u001b[0m\u001b[1;33m(\u001b[0m\u001b[0mfile\u001b[0m\u001b[1;33m)\u001b[0m\u001b[1;33m:\u001b[0m\u001b[1;33m\u001b[0m\u001b[0m\n",
      "\u001b[1;31mFileNotFoundError\u001b[0m: [Errno 2] No such file or directory: '26features\\\\Class1_S7_1263_326features.npy'"
     ]
    }
   ],
   "source": [
    "coor_list = os.listdir(\"coor\")\n",
    "vaa_list = os.listdir(\"3seq\")\n",
    "label_list = os.listdir(\"2EventSeq\")\n",
    "for i in range(5):\n",
    "    coor_class = np.load(os.path.join(\"coor\", coor_list[i]))\n",
    "    vaa_class = np.load(os.path.join(\"3seq\", vaa_list[i]))\n",
    "    label_class = np.load(os.path.join(\"2EventSeq\", label_list[i]))\n",
    "    \n",
    "    ff_class = np.reshape(np.zeros(26), (1,26)) ##ff is for final features\n",
    "    for n in range(coor_class.shape[0]):\n",
    "        CoorSeq = coor_class[n]\n",
    "        DataSeq_V = vaa_class[n,:,0]\n",
    "        DataSeq_Av = vaa_class[n,:,1]\n",
    "        LabelSeq_Pause = label_class[n,:,0]\n",
    "        LabelSeq_Reversal = label_class[n,:,1]\n",
    "        \n",
    "        if not LabelSeq_Pause.any() or not LabelSeq_Reversal.any():\n",
    "            ff_sample = np.reshape(np.zeros(26), (1,26))\n",
    "            ff_class = np.append(ff_class,ff_sample,axis=0)\n",
    "            #print(\"No event\")\n",
    "            continue\n",
    "            \n",
    "        PureSeq_Pause = Sep(DataSeq_V, LabelSeq_Pause, 1)\n",
    "        PureSeq_Npause = Sep(DataSeq_V, LabelSeq_Pause, 0)\n",
    "        PureSeq_Reversal = Sep(DataSeq_Av, LabelSeq_Reversal, 1)\n",
    "        PureSeq_Nreversal = Sep(DataSeq_Av, LabelSeq_Reversal, 0)\n",
    "        \n",
    "        #6\n",
    "        speed_mean_pause,speed_var_pause = SpeedMeanANDVariance(PureSeq_Pause)\n",
    "        speed_mean_npause,speed_var_npause = SpeedMeanANDVariance(PureSeq_Npause)\n",
    "        speed_mean_all = np.mean(DataSeq_V)\n",
    "        speed_var_all = np.var(DataSeq_V)\n",
    "        \n",
    "        #6\n",
    "        aspeed_mean_reversal,aspeed_var_reversal = SpeedMeanANDVariance(PureSeq_Reversal)\n",
    "        aspeed_mean_nreversal,aspeed_var_nreversal = SpeedMeanANDVariance(PureSeq_Nreversal)\n",
    "        aspeed_mean_all = np.mean(DataSeq_Av)\n",
    "        aspeed_var_all = np.var(DataSeq_Av)\n",
    "        \n",
    "        #8\n",
    "        dur_mean_pause, dur_var_pause = DurMeanANDVariance(PureSeq_Pause)\n",
    "        dur_mean_npause, dur_var_npause = DurMeanANDVariance(PureSeq_Npause)\n",
    "        dur_mean_reversal, dur_var_reversal = DurMeanANDVariance(PureSeq_Reversal)\n",
    "        dur_mean_nreversal, dur_var_nreversal = DurMeanANDVariance(PureSeq_Nreversal)\n",
    "        \n",
    "        #6\n",
    "        vaa_corr = np.correlate(DataSeq_V, DataSeq_Av)\n",
    "        freq_pause = len(PureSeq_Pause)\n",
    "        freq_reversal = len(PureSeq_Reversal)\n",
    "        ratio_pause = sum(LabelSeq_Pause)/len(LabelSeq_Pause)\n",
    "        ratio_reversal = sum(LabelSeq_Reversal)/len(LabelSeq_Reversal)\n",
    "        ConfineRatio = ConfinementRatio(CoorSeq)   \n",
    "    \n",
    "        ff_sample = np.array([speed_mean_pause,speed_var_pause,speed_mean_npause,speed_var_npause,\n",
    "                             speed_mean_all,speed_var_all,aspeed_mean_reversal,aspeed_var_reversal,\n",
    "                             aspeed_mean_nreversal,aspeed_var_nreversal,aspeed_mean_all, aspeed_var_all,\n",
    "                             dur_mean_pause, dur_var_pause, dur_mean_npause, dur_var_npause,\n",
    "                              dur_mean_reversal, dur_var_reversal,dur_mean_nreversal, dur_var_nreversal,\n",
    "                             vaa_corr, freq_pause, freq_reversal, ratio_pause, ratio_reversal, ConfineRatio])\n",
    "        ff_sample = np.reshape(ff_sample, (1,26))\n",
    "        ff_class = np.append(ff_class,ff_sample,axis=0)\n",
    "    ff_class = np.delete(ff_class, 0, axis=0)\n",
    "    class2EventSeq_path = os.path.join(\"26features\",vaa_list[i][:-7]+\"26features.npy\")\n",
    "    print(class2EventSeq_path, \"is saved\")\n",
    "    np.save(class2EventSeq_path, ff_class)"
   ]
  },
  {
   "cell_type": "code",
   "execution_count": 246,
   "metadata": {},
   "outputs": [
    {
     "data": {
      "text/plain": [
       "(981, 26)"
      ]
     },
     "execution_count": 246,
     "metadata": {},
     "output_type": "execute_result"
    }
   ],
   "source": [
    "ff_class.shape"
   ]
  },
  {
   "cell_type": "code",
   "execution_count": null,
   "metadata": {},
   "outputs": [],
   "source": []
  }
 ],
 "metadata": {
  "kernelspec": {
   "display_name": "Python [default]",
   "language": "python",
   "name": "python3"
  },
  "language_info": {
   "codemirror_mode": {
    "name": "ipython",
    "version": 3
   },
   "file_extension": ".py",
   "mimetype": "text/x-python",
   "name": "python",
   "nbconvert_exporter": "python",
   "pygments_lexer": "ipython3",
   "version": "3.6.6"
  }
 },
 "nbformat": 4,
 "nbformat_minor": 2
}
