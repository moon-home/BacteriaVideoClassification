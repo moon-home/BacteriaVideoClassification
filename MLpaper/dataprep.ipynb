{
 "cells": [
  {
   "cell_type": "markdown",
   "metadata": {},
   "source": [
    "* This is a sequence dataset with 5 classes. \n",
    "* Each sample has a velocity sequence and an angular velopcity sequece. These two sequences are of same length for a sample. But the length between samples are different. That is, each time step has 2 features.\n",
    "* Raw file is xls file. Each file is a single sample. Files of same class are placed in same folder. That is, there are 5 folders of xls files."
   ]
  },
  {
   "cell_type": "code",
   "execution_count": 131,
   "metadata": {},
   "outputs": [],
   "source": [
    "import os\n",
    "import pandas\n",
    "import numpy\n",
    "import random"
   ]
  },
  {
   "cell_type": "code",
   "execution_count": 120,
   "metadata": {},
   "outputs": [],
   "source": [
    "def GetNparr(classfolder_path):\n",
    "    nparr = numpy.zeros((1,60,2))\n",
    "    for filename in os.listdir(classfolder_path):\n",
    "        file_path = os.path.join(classfolder_path, filename)\n",
    "        dataset = pandas.read_excel(file_path, usecols=[0,1])\n",
    "        if dataset.shape[0]>59:\n",
    "            dataset = dataset.values\n",
    "            dataset = dataset.astype('float32')\n",
    "            dataset = dataset[:60]\n",
    "            dataset = dataset.reshape((1,60,2))\n",
    "            nparr = numpy.append(nparr, dataset, axis=0)\n",
    "    print(\"nparr.shape: \", nparr.shape)\n",
    "    return numpy.delete(nparr,0,0), nparr.shape[0]\n",
    "    "
   ]
  },
  {
   "cell_type": "markdown",
   "metadata": {},
   "source": [
    "* All seqeunces are truncated into same lenghth. Sequences shorted than this lenght are discarded. \n",
    "* Selected data are then saved in npy files for each class and as a whole in the order from class 1 to 5. \n",
    "* Corresponding labels are saved as npy too also in the order of class. "
   ]
  },
  {
   "cell_type": "code",
   "execution_count": 103,
   "metadata": {},
   "outputs": [
    {
     "name": "stdout",
     "output_type": "stream",
     "text": [
      "nparr.shape:  (1264, 60, 2)\n",
      "nparr.shape:  (809, 60, 2)\n",
      "nparr.shape:  (991, 60, 2)\n",
      "nparr.shape:  (1062, 60, 2)\n",
      "nparr.shape:  (982, 60, 2)\n"
     ]
    }
   ],
   "source": [
    "for filename in os.listdir(os.path.join(os.getcwd(), \"data\", \"raw\")):\n",
    "    classfolder_path = os.path.join(os.getcwd(), \"data\", \"raw\", filename)\n",
    "    nparr,l = GetNparr(classfolder_path)\n",
    "    npfile_name = filename[:10]+str(l)+\".npy\"\n",
    "    np.save(npfile_name, nparr)"
   ]
  },
  {
   "cell_type": "code",
   "execution_count": 121,
   "metadata": {},
   "outputs": [
    {
     "name": "stdout",
     "output_type": "stream",
     "text": [
      "nparr.shape:  (1264, 60, 2)\n",
      "nparr.shape:  (809, 60, 2)\n",
      "nparr.shape:  (991, 60, 2)\n",
      "nparr.shape:  (1062, 60, 2)\n",
      "nparr.shape:  (982, 60, 2)\n"
     ]
    }
   ],
   "source": [
    "nparr_total = numpy.zeros((1,60,2))\n",
    "for filename in os.listdir(os.path.join(os.getcwd(), \"data\", \"raw\")):\n",
    "    classfolder_path = os.path.join(os.getcwd(), \"data\", \"raw\", filename)\n",
    "    nparr,_ = GetNparr(classfolder_path)\n",
    "    nparr_total = numpy.append(nparr_total, nparr, axis=0)\n",
    "nparr_total = numpy.delete(nparr_total,0,0)\n",
    "np.save(\"x_totalorder.npy\", nparr_total)"
   ]
  },
  {
   "cell_type": "code",
   "execution_count": 129,
   "metadata": {},
   "outputs": [],
   "source": [
    "n_sample_list = [1264, 809, 991, 1062, 982]\n",
    "n_class = 5\n",
    "y_classorder = []\n",
    "for n in range(n_class):\n",
    "    y_classorder = numpy.append(y_classorder, [n+1]*n_sample_list[n])\n",
    "numpy.save(\"y_totalorder.npy\", y_classorder)"
   ]
  },
  {
   "cell_type": "markdown",
   "metadata": {},
   "source": [
    "* A list of total data size is generated. This list is used to shuffle the sequences from previous npy files. \n",
    "* Shuffeld sequences and correspondingly labels are saved as npy files. "
   ]
  },
  {
   "cell_type": "code",
   "execution_count": 144,
   "metadata": {},
   "outputs": [],
   "source": [
    "def ShuffleData(x_order, y_order, seed = 1):\n",
    "    seed = seed\n",
    "    numpy.random.seed(seed)\n",
    "    index_list = list(range(0, 5102))\n",
    "    random.shuffle(index_list)\n",
    "    x_shuffled = x_order[index_list]\n",
    "    x_filename = \"x_shuffled_\" + str(seed) +\".npy\"\n",
    "    numpy.save(x_filename, x_shuffled)\n",
    "    y_shuffled = y_order[index_list]\n",
    "    y_filename = \"y_shuffled_\" + str(seed) +\".npy\"\n",
    "    numpy.save(y_filename, y_shuffled)\n",
    "    return x_shuffled, y_shuffled"
   ]
  },
  {
   "cell_type": "code",
   "execution_count": 143,
   "metadata": {},
   "outputs": [],
   "source": [
    "x_order = np.load(os.path.join(os.getcwd(), \"data\", \"npy\", \"x_totalorder.npy\"))\n",
    "y_order = np.load(os.path.join(os.getcwd(), \"data\", \"npy\", \"y_totalorder.npy\"))\n",
    "for i in range(3):\n",
    "    ShuffleData(x_order, y_order, seed=i)"
   ]
  },
  {
   "cell_type": "code",
   "execution_count": 145,
   "metadata": {},
   "outputs": [],
   "source": [
    "x_0 = np.load(os.path.join(os.getcwd(), \"data\", \"npy\", \"shuffle\", \"x_shuffled_0.npy\"))\n",
    "y_0 = np.load(os.path.join(os.getcwd(), \"data\", \"npy\", \"shuffle\", \"y_shuffled_0.npy\"))"
   ]
  }
 ],
 "metadata": {
  "kernelspec": {
   "display_name": "Python [default]",
   "language": "python",
   "name": "python3"
  },
  "language_info": {
   "codemirror_mode": {
    "name": "ipython",
    "version": 3
   },
   "file_extension": ".py",
   "mimetype": "text/x-python",
   "name": "python",
   "nbconvert_exporter": "python",
   "pygments_lexer": "ipython3",
   "version": "3.6.6"
  }
 },
 "nbformat": 4,
 "nbformat_minor": 2
}
