{
 "cells": [
  {
   "cell_type": "markdown",
   "metadata": {},
   "source": [
    "# Img2Vid\n",
    "\n",
    "Input: a folder named *InputImages* with images to combine into a video. By default the formate of image is *jpg*.\n",
    "\n",
    "Output: a video named *video*. Its format is avi by default with 30 fps.\n",
    "\n",
    "#### Step 1: import images into a list of images"
   ]
  },
  {
   "cell_type": "code",
   "execution_count": 14,
   "metadata": {
    "collapsed": false,
    "deletable": true,
    "editable": true
   },
   "outputs": [
    {
     "name": "stdout",
     "output_type": "stream",
     "text": [
      "./jpg_output\\RECEPTOR snr 7 density mid t000 z0.jpg\n",
      "./jpg_output\\RECEPTOR snr 7 density mid t001 z0.jpg\n",
      "./jpg_output\\RECEPTOR snr 7 density mid t002 z0.jpg\n",
      "./jpg_output\\RECEPTOR snr 7 density mid t003 z0.jpg\n",
      "./jpg_output\\RECEPTOR snr 7 density mid t004 z0.jpg\n",
      "./jpg_output\\RECEPTOR snr 7 density mid t005 z0.jpg\n",
      "./jpg_output\\RECEPTOR snr 7 density mid t006 z0.jpg\n",
      "./jpg_output\\RECEPTOR snr 7 density mid t007 z0.jpg\n",
      "./jpg_output\\RECEPTOR snr 7 density mid t008 z0.jpg\n",
      "./jpg_output\\RECEPTOR snr 7 density mid t009 z0.jpg\n",
      "./jpg_output\\RECEPTOR snr 7 density mid t010 z0.jpg\n",
      "./jpg_output\\RECEPTOR snr 7 density mid t011 z0.jpg\n",
      "./jpg_output\\RECEPTOR snr 7 density mid t012 z0.jpg\n",
      "./jpg_output\\RECEPTOR snr 7 density mid t013 z0.jpg\n",
      "./jpg_output\\RECEPTOR snr 7 density mid t014 z0.jpg\n",
      "./jpg_output\\RECEPTOR snr 7 density mid t015 z0.jpg\n",
      "./jpg_output\\RECEPTOR snr 7 density mid t016 z0.jpg\n",
      "./jpg_output\\RECEPTOR snr 7 density mid t017 z0.jpg\n",
      "./jpg_output\\RECEPTOR snr 7 density mid t018 z0.jpg\n",
      "./jpg_output\\RECEPTOR snr 7 density mid t019 z0.jpg\n",
      "./jpg_output\\RECEPTOR snr 7 density mid t020 z0.jpg\n",
      "./jpg_output\\RECEPTOR snr 7 density mid t021 z0.jpg\n",
      "./jpg_output\\RECEPTOR snr 7 density mid t022 z0.jpg\n",
      "./jpg_output\\RECEPTOR snr 7 density mid t023 z0.jpg\n",
      "./jpg_output\\RECEPTOR snr 7 density mid t024 z0.jpg\n",
      "./jpg_output\\RECEPTOR snr 7 density mid t025 z0.jpg\n",
      "./jpg_output\\RECEPTOR snr 7 density mid t026 z0.jpg\n",
      "./jpg_output\\RECEPTOR snr 7 density mid t027 z0.jpg\n",
      "./jpg_output\\RECEPTOR snr 7 density mid t028 z0.jpg\n",
      "./jpg_output\\RECEPTOR snr 7 density mid t029 z0.jpg\n",
      "./jpg_output\\RECEPTOR snr 7 density mid t030 z0.jpg\n",
      "./jpg_output\\RECEPTOR snr 7 density mid t031 z0.jpg\n",
      "./jpg_output\\RECEPTOR snr 7 density mid t032 z0.jpg\n",
      "./jpg_output\\RECEPTOR snr 7 density mid t033 z0.jpg\n",
      "./jpg_output\\RECEPTOR snr 7 density mid t034 z0.jpg\n",
      "./jpg_output\\RECEPTOR snr 7 density mid t035 z0.jpg\n",
      "./jpg_output\\RECEPTOR snr 7 density mid t036 z0.jpg\n",
      "./jpg_output\\RECEPTOR snr 7 density mid t037 z0.jpg\n",
      "./jpg_output\\RECEPTOR snr 7 density mid t038 z0.jpg\n",
      "./jpg_output\\RECEPTOR snr 7 density mid t039 z0.jpg\n",
      "./jpg_output\\RECEPTOR snr 7 density mid t040 z0.jpg\n",
      "./jpg_output\\RECEPTOR snr 7 density mid t041 z0.jpg\n",
      "./jpg_output\\RECEPTOR snr 7 density mid t042 z0.jpg\n",
      "./jpg_output\\RECEPTOR snr 7 density mid t043 z0.jpg\n",
      "./jpg_output\\RECEPTOR snr 7 density mid t044 z0.jpg\n",
      "./jpg_output\\RECEPTOR snr 7 density mid t045 z0.jpg\n",
      "./jpg_output\\RECEPTOR snr 7 density mid t046 z0.jpg\n",
      "./jpg_output\\RECEPTOR snr 7 density mid t047 z0.jpg\n",
      "./jpg_output\\RECEPTOR snr 7 density mid t048 z0.jpg\n",
      "./jpg_output\\RECEPTOR snr 7 density mid t049 z0.jpg\n",
      "./jpg_output\\RECEPTOR snr 7 density mid t050 z0.jpg\n",
      "./jpg_output\\RECEPTOR snr 7 density mid t051 z0.jpg\n",
      "./jpg_output\\RECEPTOR snr 7 density mid t052 z0.jpg\n",
      "./jpg_output\\RECEPTOR snr 7 density mid t053 z0.jpg\n",
      "./jpg_output\\RECEPTOR snr 7 density mid t054 z0.jpg\n",
      "./jpg_output\\RECEPTOR snr 7 density mid t055 z0.jpg\n",
      "./jpg_output\\RECEPTOR snr 7 density mid t056 z0.jpg\n",
      "./jpg_output\\RECEPTOR snr 7 density mid t057 z0.jpg\n",
      "./jpg_output\\RECEPTOR snr 7 density mid t058 z0.jpg\n",
      "./jpg_output\\RECEPTOR snr 7 density mid t059 z0.jpg\n",
      "./jpg_output\\RECEPTOR snr 7 density mid t060 z0.jpg\n",
      "./jpg_output\\RECEPTOR snr 7 density mid t061 z0.jpg\n",
      "./jpg_output\\RECEPTOR snr 7 density mid t062 z0.jpg\n",
      "./jpg_output\\RECEPTOR snr 7 density mid t063 z0.jpg\n",
      "./jpg_output\\RECEPTOR snr 7 density mid t064 z0.jpg\n",
      "./jpg_output\\RECEPTOR snr 7 density mid t065 z0.jpg\n",
      "./jpg_output\\RECEPTOR snr 7 density mid t066 z0.jpg\n",
      "./jpg_output\\RECEPTOR snr 7 density mid t067 z0.jpg\n",
      "./jpg_output\\RECEPTOR snr 7 density mid t068 z0.jpg\n",
      "./jpg_output\\RECEPTOR snr 7 density mid t069 z0.jpg\n",
      "./jpg_output\\RECEPTOR snr 7 density mid t070 z0.jpg\n",
      "./jpg_output\\RECEPTOR snr 7 density mid t071 z0.jpg\n",
      "./jpg_output\\RECEPTOR snr 7 density mid t072 z0.jpg\n",
      "./jpg_output\\RECEPTOR snr 7 density mid t073 z0.jpg\n",
      "./jpg_output\\RECEPTOR snr 7 density mid t074 z0.jpg\n",
      "./jpg_output\\RECEPTOR snr 7 density mid t075 z0.jpg\n",
      "./jpg_output\\RECEPTOR snr 7 density mid t076 z0.jpg\n",
      "./jpg_output\\RECEPTOR snr 7 density mid t077 z0.jpg\n",
      "./jpg_output\\RECEPTOR snr 7 density mid t078 z0.jpg\n",
      "./jpg_output\\RECEPTOR snr 7 density mid t079 z0.jpg\n",
      "./jpg_output\\RECEPTOR snr 7 density mid t080 z0.jpg\n",
      "./jpg_output\\RECEPTOR snr 7 density mid t081 z0.jpg\n",
      "./jpg_output\\RECEPTOR snr 7 density mid t082 z0.jpg\n",
      "./jpg_output\\RECEPTOR snr 7 density mid t083 z0.jpg\n",
      "./jpg_output\\RECEPTOR snr 7 density mid t084 z0.jpg\n",
      "./jpg_output\\RECEPTOR snr 7 density mid t085 z0.jpg\n",
      "./jpg_output\\RECEPTOR snr 7 density mid t086 z0.jpg\n",
      "./jpg_output\\RECEPTOR snr 7 density mid t087 z0.jpg\n",
      "./jpg_output\\RECEPTOR snr 7 density mid t088 z0.jpg\n",
      "./jpg_output\\RECEPTOR snr 7 density mid t089 z0.jpg\n",
      "./jpg_output\\RECEPTOR snr 7 density mid t090 z0.jpg\n",
      "./jpg_output\\RECEPTOR snr 7 density mid t091 z0.jpg\n",
      "./jpg_output\\RECEPTOR snr 7 density mid t092 z0.jpg\n",
      "./jpg_output\\RECEPTOR snr 7 density mid t093 z0.jpg\n",
      "./jpg_output\\RECEPTOR snr 7 density mid t094 z0.jpg\n",
      "./jpg_output\\RECEPTOR snr 7 density mid t095 z0.jpg\n",
      "./jpg_output\\RECEPTOR snr 7 density mid t096 z0.jpg\n",
      "./jpg_output\\RECEPTOR snr 7 density mid t097 z0.jpg\n",
      "./jpg_output\\RECEPTOR snr 7 density mid t098 z0.jpg\n",
      "./jpg_output\\RECEPTOR snr 7 density mid t099 z0.jpg\n"
     ]
    }
   ],
   "source": [
    "import os\n",
    "import glob\n",
    "import numpy as np\n",
    "#img_dir = \"\" # Enter Directory of all images \n",
    "#data_path = os.path.join(img_dir,'*g')\n",
    "files = glob.glob('./InputImages/*.jpg')\n",
    "data = []\n",
    "for f1 in files:\n",
    "    print(f1)\n",
    "    img = cv2.imread(f1)\n",
    "    data.append(img)"
   ]
  },
  {
   "cell_type": "markdown",
   "metadata": {},
   "source": [
    "#### Step 2: convert the list of images into an array of the values of pixels"
   ]
  },
  {
   "cell_type": "code",
   "execution_count": 21,
   "metadata": {
    "collapsed": false
   },
   "outputs": [
    {
     "data": {
      "text/plain": [
       "(100, 512, 512, 3)"
      ]
     },
     "execution_count": 21,
     "metadata": {},
     "output_type": "execute_result"
    }
   ],
   "source": [
    "import numpy as np\n",
    "frame_array = np.array(data)\n",
    "frame_array.shape"
   ]
  },
  {
   "cell_type": "markdown",
   "metadata": {},
   "source": [
    "#### Step 3: create the video container and write the pixels array into it"
   ]
  },
  {
   "cell_type": "code",
   "execution_count": 22,
   "metadata": {
    "collapsed": false,
    "deletable": true,
    "editable": true
   },
   "outputs": [],
   "source": [
    "import cv2 as cv\n",
    "height, width, channel = frame_array[0].shape\n",
    "out = cv.VideoWriter('video.avi',cv.VideoWriter_fourcc(*'DIVX'), 30, (width,height))\n",
    "for i in range(len(frame_array)):\n",
    "    out.write(frame_array[i])\n",
    "out.release()"
   ]
  }
 ],
 "metadata": {
  "anaconda-cloud": {},
  "kernelspec": {
   "display_name": "Python [conda env:SPTopencv3]",
   "language": "python",
   "name": "conda-env-SPTopencv3-py"
  },
  "language_info": {
   "codemirror_mode": {
    "name": "ipython",
    "version": 3
   },
   "file_extension": ".py",
   "mimetype": "text/x-python",
   "name": "python",
   "nbconvert_exporter": "python",
   "pygments_lexer": "ipython3",
   "version": "3.5.3"
  }
 },
 "nbformat": 4,
 "nbformat_minor": 2
}
